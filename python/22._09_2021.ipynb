{
 "cells": [
  {
   "cell_type": "markdown",
   "id": "66aa44e5",
   "metadata": {},
   "source": [
    "# ZigZag Conversion\n",
    "\n",
    "https://leetcode.com/problems/zigzag-conversion/"
   ]
  },
  {
   "cell_type": "code",
   "execution_count": 95,
   "id": "8646587e",
   "metadata": {},
   "outputs": [],
   "source": [
    "s = \"PAYPALISHIRING\"\n",
    "numRows = 4\n",
    "res = []"
   ]
  },
  {
   "cell_type": "code",
   "execution_count": 97,
   "id": "8e80701c",
   "metadata": {},
   "outputs": [],
   "source": [
    "def ZigZagConversion(s, numRows):\n",
    "    if numRows == 1:\n",
    "        return s\n",
    "    \n",
    "    res = []\n",
    "    while s != '':\n",
    "        res.append(list(s[:numRows]) + ['']*(numRows-len(s[:numRows])))\n",
    "        s = s[numRows:]\n",
    "\n",
    "        if s == '':\n",
    "            break\n",
    "\n",
    "        j = numRows - 2\n",
    "        while j != 0:\n",
    "            tmp_res = ['']*numRows\n",
    "            tmp_res[j] = s[0]\n",
    "            res.append(tmp_res)\n",
    "            s = s[1:]\n",
    "            j -= 1\n",
    "\n",
    "\n",
    "    return ''.join([row[i] for i in range(len(res[0])) for row in res])"
   ]
  },
  {
   "cell_type": "code",
   "execution_count": 78,
   "id": "d46b3741",
   "metadata": {
    "scrolled": true
   },
   "outputs": [
    {
     "data": {
      "text/plain": [
       "'PAHNAPLSIIGYIR'"
      ]
     },
     "execution_count": 78,
     "metadata": {},
     "output_type": "execute_result"
    }
   ],
   "source": [
    "ZigZagConversion(s, numRows) == 'PAHNAPLSIIGYIR'"
   ]
  },
  {
   "cell_type": "code",
   "execution_count": 98,
   "id": "cfbe4d68",
   "metadata": {
    "scrolled": true
   },
   "outputs": [
    {
     "data": {
      "text/plain": [
       "True"
      ]
     },
     "execution_count": 98,
     "metadata": {},
     "output_type": "execute_result"
    }
   ],
   "source": [
    "ZigZagConversion(s, 4) == 'PINALSIGYAHRPI'"
   ]
  },
  {
   "cell_type": "markdown",
   "id": "f5f5c3f9",
   "metadata": {},
   "source": [
    "# Max Consecutive Ones\n",
    "\n",
    "https://leetcode.com/explore/challenge/card/september-leetcoding-challenge-2021/638/week-3-september-15th-september-21st/3982/"
   ]
  },
  {
   "cell_type": "code",
   "execution_count": 1,
   "id": "4dc53bed",
   "metadata": {},
   "outputs": [],
   "source": [
    "nums = [0, 0, 0, 1, 0, 0, 1, 1, 1, 1]"
   ]
  },
  {
   "cell_type": "code",
   "execution_count": 2,
   "id": "27ba77db",
   "metadata": {
    "scrolled": true
   },
   "outputs": [],
   "source": [
    "def MaxConsecutiveOnes(nums):\n",
    "    return max([len(substr) for substr in ''.join(str(n) for n in nums).split('0')])"
   ]
  }
 ],
 "metadata": {
  "kernelspec": {
   "display_name": "Python 3 (ipykernel)",
   "language": "python",
   "name": "python3"
  },
  "language_info": {
   "codemirror_mode": {
    "name": "ipython",
    "version": 3
   },
   "file_extension": ".py",
   "mimetype": "text/x-python",
   "name": "python",
   "nbconvert_exporter": "python",
   "pygments_lexer": "ipython3",
   "version": "3.9.7"
  }
 },
 "nbformat": 4,
 "nbformat_minor": 5
}
