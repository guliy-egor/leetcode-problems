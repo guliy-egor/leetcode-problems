{
 "cells": [
  {
   "cell_type": "markdown",
   "id": "6c08e7ea",
   "metadata": {},
   "source": [
    "# Break a Palindrome\n",
    "\n",
    "https://leetcode.com/explore/challenge/card/september-leetcoding-challenge-2021/639/week-4-september-22nd-september-28th/3985/"
   ]
  },
  {
   "cell_type": "code",
   "execution_count": 64,
   "id": "7c870d0d",
   "metadata": {},
   "outputs": [],
   "source": [
    "palindrome = \"abcde\""
   ]
  },
  {
   "cell_type": "code",
   "execution_count": 54,
   "id": "536dac41",
   "metadata": {},
   "outputs": [],
   "source": [
    "def break_palindrome(palindrome):\n",
    "        i = 0\n",
    "        while i <= int(len(palindrome)/2):\n",
    "            if palindrome[i] != 'a':\n",
    "                return palindrome[:i] + 'a' + palindrome[i+1:]\n",
    "            i += 1\n",
    "\n",
    "        if len(palindrome) == 1:\n",
    "            return \"\"\n",
    "\n",
    "        else:\n",
    "            return palindrome[:-1] + 'b'"
   ]
  },
  {
   "cell_type": "markdown",
   "id": "ee6a2a81",
   "metadata": {},
   "source": [
    "# Longest Palindromic Substring\n",
    "\n",
    "https://leetcode.com/problems/longest-palindromic-substring/"
   ]
  },
  {
   "cell_type": "code",
   "execution_count": 142,
   "id": "61171b90",
   "metadata": {},
   "outputs": [],
   "source": [
    "s = \"aaaaaaaaaababaddabab\"\n",
    "s = \"babaddabab\""
   ]
  },
  {
   "cell_type": "code",
   "execution_count": 145,
   "id": "fe65c3ef",
   "metadata": {},
   "outputs": [],
   "source": [
    "def longest_palindromic_subsr(s):\n",
    "    ls = len(s)\n",
    "    \n",
    "    record = \"\"\n",
    "    candidate_1 = \"\"\n",
    "    candidate_2 = \"\"\n",
    "\n",
    "    i = 0\n",
    "    while i < ls:\n",
    "        if i > ls - int(len(record)/2) + 1:\n",
    "            break\n",
    "\n",
    "        j = 0\n",
    "        candidate_1 = \"\"\n",
    "        while i-j>=0 and i+j<=ls-2 and s[i-j] == s[i+1+j]:\n",
    "            candidate_1 = s[i-j]+candidate_1+s[i+1+j]\n",
    "            j += 1\n",
    "\n",
    "        k = 1\n",
    "        candidate_2 = s[i]\n",
    "        while i-k>=0 and i+k<=ls-1 and s[i+k] == s[i-k]:\n",
    "            candidate_2 = s[i-k]+candidate_2+s[i+k]\n",
    "            k += 1\n",
    "\n",
    "        record = max(record, candidate_1, candidate_2, key=len)\n",
    "\n",
    "        i += 1\n",
    "    \n",
    "    return record"
   ]
  },
  {
   "cell_type": "code",
   "execution_count": 146,
   "id": "cec1b174",
   "metadata": {},
   "outputs": [
    {
     "data": {
      "text/plain": [
       "'babaddabab'"
      ]
     },
     "execution_count": 146,
     "metadata": {},
     "output_type": "execute_result"
    }
   ],
   "source": [
    "longest_palindromic_subsr(s)"
   ]
  },
  {
   "cell_type": "markdown",
   "id": "0af9f13c",
   "metadata": {},
   "source": [
    "# Longest Substring Without Repeating Characters\n",
    "\n",
    "https://leetcode.com/problems/longest-substring-without-repeating-characters/"
   ]
  },
  {
   "cell_type": "code",
   "execution_count": 303,
   "id": "19a83bba",
   "metadata": {},
   "outputs": [],
   "source": [
    "s = \"pabcwjwkeabcw\""
   ]
  },
  {
   "cell_type": "code",
   "execution_count": 304,
   "id": "729d2140",
   "metadata": {},
   "outputs": [],
   "source": [
    "import string\n",
    "import random"
   ]
  },
  {
   "cell_type": "code",
   "execution_count": 305,
   "id": "6b3256e8",
   "metadata": {
    "scrolled": false
   },
   "outputs": [
    {
     "data": {
      "text/plain": [
       "{'a': True}"
      ]
     },
     "execution_count": 305,
     "metadata": {},
     "output_type": "execute_result"
    }
   ],
   "source": [
    "{'a': True}"
   ]
  },
  {
   "cell_type": "code",
   "execution_count": 333,
   "id": "dc781f27",
   "metadata": {},
   "outputs": [],
   "source": [
    "s = ''.join(random.choice(string.ascii_lowercase + string.digits) for _ in range(40000))"
   ]
  },
  {
   "cell_type": "code",
   "execution_count": 395,
   "id": "452bcb0b",
   "metadata": {},
   "outputs": [],
   "source": [
    "s = \"4mnzlwj4nmtokd9fiymhq8uit7n1vidlu8bsif7ljs6iucysyuwlztl7dopmemyhka8tk5xqnnhpze9sccw0bjo4j4g8ny0bu4rhok9hdv3r9sqs81bgi1i6ore9f0f40m9m15pka2jjdyn39t7pz705jmrjdyss7swwbvpip69syinoor3s4x3hzp0spm6d5aw1ywccqo3tbgy85y7y6ehmqpc458vu5kffnvpnvyee1zbpsjfm6j1benarbkuqrjiaoka56trbxosrp4d5bw94tdqh2b7uot1m2u07fcxmd0cjn7vfxf6wxcp00pz3oleftnm6zjdlcmt8v814qp3blqg5ujxrge0evhqqxd45uvroj8qm9vw0qnrlasrjnsgvv30yuvamcb3g538ve9ahho8ho4x4h996av33472gp2o0wmegc76x4reroz0q8thekep17159957c57ea0bz69n98ez4aaog28chrarflmj0v2vt2bwjs2a2izsmszig894rw3iler4uyn2yapw1px82pe6unlrehbowbqcm1jv2poji8v4d7csl5sqfrlsxotxxblt4dgqq6t0yt4r4znmfr2wggekti7nyacegfk46wz97gwpyp88wp7fbauvypwd2akqxdd7431jht1yu3nap2ndoi874b1c9za2sltaorb1r633boqvewe8mj5dpq64u4nn20zmiyzlotblgfmv3du7c43rs0jbk9ggau2gmnlaiw1w90m4stev8p56n5vmnvjpnom14l4z41uz7187hrkium6lozad0ehniacymyce6o5znux4e4zuj8l6werkh0q82giaz0iccxihin6vu0xdx1xzmacsn\"\n"
   ]
  },
  {
   "cell_type": "code",
   "execution_count": 406,
   "id": "e90699c1",
   "metadata": {},
   "outputs": [],
   "source": [
    "def longest_substtr(s):\n",
    "    last_position = {}\n",
    "    record = 0\n",
    " \n",
    "    start_substr = 0\n",
    "    i = 0\n",
    "    while i < len(s):\n",
    "        if s[i] in last_position:\n",
    "            start_substr = max(start_substr, last_position[s[i]] + 1)\n",
    "\n",
    "        record = max(record, i-start_substr + 1)\n",
    "        last_position[s[i]] = i\n",
    "        i += 1\n",
    " \n",
    "    return record"
   ]
  },
  {
   "cell_type": "code",
   "execution_count": 407,
   "id": "5c5bd352",
   "metadata": {},
   "outputs": [
    {
     "data": {
      "text/plain": [
       "17"
      ]
     },
     "execution_count": 407,
     "metadata": {},
     "output_type": "execute_result"
    }
   ],
   "source": [
    "longest_substtr(s)"
   ]
  },
  {
   "cell_type": "markdown",
   "id": "05914280",
   "metadata": {},
   "source": [
    "# N-th Tribonacci Number\n",
    "\n",
    "https://leetcode.com/explore/challenge/card/september-leetcoding-challenge-2021/639/week-4-september-22nd-september-28th/3986/"
   ]
  },
  {
   "cell_type": "code",
   "execution_count": 219,
   "id": "2b79164e",
   "metadata": {},
   "outputs": [],
   "source": [
    "n = 5"
   ]
  },
  {
   "cell_type": "code",
   "execution_count": 220,
   "id": "c0a3b8b0",
   "metadata": {},
   "outputs": [],
   "source": [
    "def n_trib_num(n):\n",
    "    if n == 0:\n",
    "        return 0\n",
    "    elif n in (1, 2):\n",
    "        return 1\n",
    "    else:\n",
    "        n = n - 3\n",
    "        r = [0, 1, 1]\n",
    "\n",
    "        while n != 0:\n",
    "            r.append(sum(r[-3:]))\n",
    "            n -= 1\n",
    "        \n",
    "        return sum(r[-3:])"
   ]
  },
  {
   "cell_type": "code",
   "execution_count": 222,
   "id": "3c2a26ac",
   "metadata": {
    "scrolled": true
   },
   "outputs": [
    {
     "data": {
      "text/plain": [
       "4"
      ]
     },
     "execution_count": 222,
     "metadata": {},
     "output_type": "execute_result"
    }
   ],
   "source": [
    "n_trib_num(4)"
   ]
  }
 ],
 "metadata": {
  "kernelspec": {
   "display_name": "Python 3 (ipykernel)",
   "language": "python",
   "name": "python3"
  },
  "language_info": {
   "codemirror_mode": {
    "name": "ipython",
    "version": 3
   },
   "file_extension": ".py",
   "mimetype": "text/x-python",
   "name": "python",
   "nbconvert_exporter": "python",
   "pygments_lexer": "ipython3",
   "version": "3.9.7"
  }
 },
 "nbformat": 4,
 "nbformat_minor": 5
}
