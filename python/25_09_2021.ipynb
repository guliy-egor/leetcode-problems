{
 "cells": [
  {
   "cell_type": "markdown",
   "id": "6329598c",
   "metadata": {},
   "source": [
    "# Remove Duplicates from Sorted Array [Easy]\n",
    "\n",
    "https://leetcode.com/problems/remove-duplicates-from-sorted-array/"
   ]
  },
  {
   "cell_type": "code",
   "execution_count": null,
   "id": "59af802e",
   "metadata": {},
   "outputs": [],
   "source": [
    "nums = [1]"
   ]
  },
  {
   "cell_type": "code",
   "execution_count": null,
   "id": "a308eeae",
   "metadata": {},
   "outputs": [],
   "source": [
    "def remove_duplicates(nums):\n",
    "    i = 0\n",
    "    while i + 1 < len(nums):\n",
    "        if nums[i] != nums[i+1]:\n",
    "            i += 1\n",
    "        else:\n",
    "            del nums[i+1]\n",
    "    \n",
    "    return len(nums)"
   ]
  },
  {
   "cell_type": "markdown",
   "id": "ed2eb330",
   "metadata": {},
   "source": [
    "# Shortest Path in a Grid with Obstacles Elimination [Hard]\n",
    "\n",
    "https://leetcode.com/explore/challenge/card/september-leetcoding-challenge-2021/639/week-4-september-22nd-september-28th/3987/"
   ]
  },
  {
   "cell_type": "code",
   "execution_count": 60,
   "id": "71c3aa51",
   "metadata": {},
   "outputs": [],
   "source": [
    "grid = [[0,1,1,0,0,0,0],\n",
    "         [0,1,1,0,1,1,0],\n",
    "         [0,0,0,0,1,1,0],\n",
    "         [0,0,1,0,1,1,0],\n",
    "         [0,0,1,0,1,1,0]]\n",
    "\n",
    "k = 1"
   ]
  },
  {
   "cell_type": "code",
   "execution_count": 80,
   "id": "811c12cd",
   "metadata": {},
   "outputs": [],
   "source": [
    "def shortest_path(grid, k):\n",
    "    m = len(grid)\n",
    "    n = len(grid[0])\n",
    "    \n",
    "    if m == 1 and n == 1:\n",
    "        return 0\n",
    "\n",
    "    visited_cost = {(0, 0, 0): 0} # return steps by (x, y, cost)\n",
    "    visited_steps = {(0, 0, 0): 0} # return cost by (x, y, steps)\n",
    "    candidates = [(0, 0, 0, 0)] # x, y, steps, cost\n",
    "    next_candidates = []\n",
    "\n",
    "    while 1:\n",
    "        for p in candidates:\n",
    "            x, y, steps, cost = p\n",
    "            cands = [cand for cand in ((x+1, y), (x, y+1), (x-1, y), (x, y-1)) if cand[0] >= 0 and cand[0] < m and cand[1] >= 0 and cand[1] < n]\n",
    "            for (a,b) in cands:\n",
    "                next_cost = cost + grid[a][b]\n",
    "                next_steps = steps + 1\n",
    "                if next_cost <= k:\n",
    "                    if (a, b) == (m-1, n-1):\n",
    "                        return next_steps\n",
    "\n",
    "                    if (a, b, next_cost) in visited_cost and visited_cost[(a, b, next_cost)] <= next_steps:\n",
    "                        pass\n",
    "                    elif (a, b, next_steps) in visited_steps and visited_steps[(a, b, next_steps)] <= next_cost:\n",
    "                        pass\n",
    "                    else:\n",
    "                        next_candidates.append((a, b, steps+1, cost + grid[a][b]))\n",
    "                        visited_cost[(a, b, next_cost)] = next_steps\n",
    "                        visited_steps[(a, b, next_steps)] = next_cost\n",
    "\n",
    "        if next_candidates == []:\n",
    "            return -1\n",
    "\n",
    "        candidates = next_candidates\n",
    "        next_candidates = []\n"
   ]
  },
  {
   "cell_type": "code",
   "execution_count": 83,
   "id": "a440b854",
   "metadata": {},
   "outputs": [],
   "source": [
    "grid = [[0]]\n",
    "\n",
    "k = 1"
   ]
  },
  {
   "cell_type": "code",
   "execution_count": 84,
   "id": "be433d37",
   "metadata": {
    "scrolled": true
   },
   "outputs": [
    {
     "data": {
      "text/plain": [
       "1"
      ]
     },
     "execution_count": 84,
     "metadata": {},
     "output_type": "execute_result"
    }
   ],
   "source": [
    "shortest_path(grid, k)"
   ]
  }
 ],
 "metadata": {
  "kernelspec": {
   "display_name": "Python 3 (ipykernel)",
   "language": "python",
   "name": "python3"
  },
  "language_info": {
   "codemirror_mode": {
    "name": "ipython",
    "version": 3
   },
   "file_extension": ".py",
   "mimetype": "text/x-python",
   "name": "python",
   "nbconvert_exporter": "python",
   "pygments_lexer": "ipython3",
   "version": "3.9.7"
  }
 },
 "nbformat": 4,
 "nbformat_minor": 5
}
