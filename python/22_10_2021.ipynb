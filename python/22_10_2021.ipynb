{
 "cells": [
  {
   "cell_type": "markdown",
   "id": "1d37fd03",
   "metadata": {},
   "source": [
    "# 451. Sort Characters By Frequency\n",
    "\n",
    "https://leetcode.com/problems/sort-characters-by-frequency/"
   ]
  },
  {
   "cell_type": "code",
   "execution_count": 282,
   "id": "b573c1ea",
   "metadata": {},
   "outputs": [],
   "source": [
    "s = \"Aabb\""
   ]
  },
  {
   "cell_type": "code",
   "execution_count": 295,
   "id": "3102b4c0",
   "metadata": {},
   "outputs": [],
   "source": [
    "def frequencySort(s):\n",
    "\n",
    "    res = ''\n",
    "    counts = {}\n",
    "\n",
    "    for c in s:\n",
    "        if c not in counts:\n",
    "            counts[c] = 1\n",
    "        else:\n",
    "            counts[c] += 1\n",
    "\n",
    "    for key, val in sorted(counts.items(), key=lambda item: item[1], reverse = True):\n",
    "        res += key*val\n",
    "    \n",
    "    return res"
   ]
  },
  {
   "cell_type": "code",
   "execution_count": 296,
   "id": "07cd667e",
   "metadata": {},
   "outputs": [
    {
     "data": {
      "text/plain": [
       "'cccccccccccccccAAAAAAAaaa'"
      ]
     },
     "execution_count": 296,
     "metadata": {},
     "output_type": "execute_result"
    }
   ],
   "source": [
    "frequencySort('cccccccccccccccaaaAAAAAAA')"
   ]
  },
  {
   "cell_type": "code",
   "execution_count": null,
   "id": "b24ed89a",
   "metadata": {},
   "outputs": [],
   "source": []
  },
  {
   "cell_type": "markdown",
   "id": "660025ef",
   "metadata": {},
   "source": [
    "# 347. Top K Frequent Elements\n",
    "\n",
    "https://leetcode.com/problems/top-k-frequent-elements/"
   ]
  },
  {
   "cell_type": "code",
   "execution_count": 313,
   "id": "d6ab1eb5",
   "metadata": {},
   "outputs": [],
   "source": [
    "nums = [1,1,1,2,2,2,2,3]\n",
    "k = 2"
   ]
  },
  {
   "cell_type": "code",
   "execution_count": 314,
   "id": "8e0dec88",
   "metadata": {},
   "outputs": [],
   "source": [
    "def topKFrequent(nums, k):\n",
    "    \n",
    "    counts = {}\n",
    "    for num in nums:\n",
    "        if num not in counts:\n",
    "            counts[num] = 1\n",
    "        else:\n",
    "            counts[num] += 1\n",
    "\n",
    "    return [c[0] for c in sorted(counts.items(), key = lambda item: item[1], reverse=True)[:k]]"
   ]
  },
  {
   "cell_type": "code",
   "execution_count": 315,
   "id": "53fd9bab",
   "metadata": {},
   "outputs": [
    {
     "data": {
      "text/plain": [
       "[2, 1]"
      ]
     },
     "execution_count": 315,
     "metadata": {},
     "output_type": "execute_result"
    }
   ],
   "source": [
    "topKFrequent(nums, k)"
   ]
  },
  {
   "cell_type": "markdown",
   "id": "ac98a170",
   "metadata": {},
   "source": [
    "# 387. First Unique Character in a String\n",
    "\n",
    "https://leetcode.com/problems/first-unique-character-in-a-string/"
   ]
  },
  {
   "cell_type": "code",
   "execution_count": 363,
   "id": "fe1efc39",
   "metadata": {},
   "outputs": [],
   "source": [
    "s = \"aabbcfgcfgj\""
   ]
  },
  {
   "cell_type": "code",
   "execution_count": 361,
   "id": "2f2df58f",
   "metadata": {},
   "outputs": [],
   "source": [
    "def firstUniqChar(s):\n",
    "    counts = {}\n",
    "    for i in range(len(s)):\n",
    "        if s[i] not in counts:\n",
    "            counts[s[i]] = (1, i)\n",
    "        else:\n",
    "            counts[s[i]] = (counts[s[i]][0] + 1, counts[s[i]][1])\n",
    "\n",
    "    res = len(s)\n",
    "    for val in counts.values():\n",
    "        if val[0] == 1 and val[1] < res:\n",
    "            res = val[1]\n",
    "\n",
    "    return -1 if res == len(s) else res"
   ]
  },
  {
   "cell_type": "code",
   "execution_count": 364,
   "id": "5150bb78",
   "metadata": {},
   "outputs": [
    {
     "data": {
      "text/plain": [
       "10"
      ]
     },
     "execution_count": 364,
     "metadata": {},
     "output_type": "execute_result"
    }
   ],
   "source": [
    "firstUniqChar(s)"
   ]
  },
  {
   "cell_type": "code",
   "execution_count": null,
   "id": "02a6e94e",
   "metadata": {},
   "outputs": [],
   "source": []
  }
 ],
 "metadata": {
  "kernelspec": {
   "display_name": "Python 3 (ipykernel)",
   "language": "python",
   "name": "python3"
  },
  "language_info": {
   "codemirror_mode": {
    "name": "ipython",
    "version": 3
   },
   "file_extension": ".py",
   "mimetype": "text/x-python",
   "name": "python",
   "nbconvert_exporter": "python",
   "pygments_lexer": "ipython3",
   "version": "3.9.7"
  }
 },
 "nbformat": 4,
 "nbformat_minor": 5
}
