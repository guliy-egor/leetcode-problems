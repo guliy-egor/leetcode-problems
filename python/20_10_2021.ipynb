{
 "cells": [
  {
   "cell_type": "markdown",
   "id": "8396b0a9",
   "metadata": {},
   "source": [
    "# 151. Reverse Words in a String\n",
    "\n",
    "https://leetcode.com/problems/reverse-words-in-a-string/"
   ]
  },
  {
   "cell_type": "code",
   "execution_count": 196,
   "id": "85eefcd0",
   "metadata": {},
   "outputs": [],
   "source": [
    "s = \"           blue      \""
   ]
  },
  {
   "cell_type": "code",
   "execution_count": 14,
   "id": "a36bb11b",
   "metadata": {},
   "outputs": [],
   "source": [
    "# O(n) memory, n is the number of words. Pythonic solution\n",
    "\n",
    "def reverseWords(s):\n",
    "    return (' ').join([w for w in s.split(' ') if w != ''][::-1])"
   ]
  },
  {
   "cell_type": "code",
   "execution_count": 17,
   "id": "df6cff13",
   "metadata": {
    "scrolled": true
   },
   "outputs": [
    {
     "data": {
      "text/plain": [
       "'Alice Loves Bob'"
      ]
     },
     "execution_count": 17,
     "metadata": {},
     "output_type": "execute_result"
    }
   ],
   "source": [
    "reverseWords(\"  Bob    Loves  Alice   \")"
   ]
  },
  {
   "cell_type": "code",
   "execution_count": null,
   "id": "02eb4f74",
   "metadata": {},
   "outputs": [],
   "source": []
  },
  {
   "cell_type": "code",
   "execution_count": 193,
   "id": "0e1f9e1d",
   "metadata": {},
   "outputs": [],
   "source": [
    "# O(1) memory solution\n",
    "\n",
    "def moveToEnd(s, start, end):\n",
    "    if s[start:end] != ' ':\n",
    "        return s[:start] + s[end:] + s[start:end]\n",
    "    else:\n",
    "        return s[:start] + s[end:]\n",
    "\n",
    "def reverseWords(s):\n",
    "    s = ' ' + s\n",
    "    l, i, j = len(s), 0, 0\n",
    "\n",
    "    while i < l:\n",
    "\n",
    "        while s[l-1-i-j] != ' ':\n",
    "            j += 1\n",
    "        #print (s[l-i-j:l-i], i, j)\n",
    "\n",
    "        s = moveToEnd(s, l-i-j-1, l-i)\n",
    "        #print(s)\n",
    "        i += j + 1\n",
    "        j = 0\n",
    "\n",
    "    return s[1:]"
   ]
  },
  {
   "cell_type": "code",
   "execution_count": 199,
   "id": "6466fea3",
   "metadata": {},
   "outputs": [
    {
     "data": {
      "text/plain": [
       "'Alice Loves Bob'"
      ]
     },
     "execution_count": 199,
     "metadata": {},
     "output_type": "execute_result"
    }
   ],
   "source": [
    "reverseWords(\"  Bob    Loves  Alice   \")"
   ]
  },
  {
   "cell_type": "code",
   "execution_count": null,
   "id": "81e00918",
   "metadata": {},
   "outputs": [],
   "source": []
  },
  {
   "cell_type": "code",
   "execution_count": null,
   "id": "13583939",
   "metadata": {},
   "outputs": [],
   "source": []
  }
 ],
 "metadata": {
  "kernelspec": {
   "display_name": "Python 3 (ipykernel)",
   "language": "python",
   "name": "python3"
  },
  "language_info": {
   "codemirror_mode": {
    "name": "ipython",
    "version": 3
   },
   "file_extension": ".py",
   "mimetype": "text/x-python",
   "name": "python",
   "nbconvert_exporter": "python",
   "pygments_lexer": "ipython3",
   "version": "3.9.7"
  }
 },
 "nbformat": 4,
 "nbformat_minor": 5
}
