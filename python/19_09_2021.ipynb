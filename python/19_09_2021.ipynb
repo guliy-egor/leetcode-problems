{
 "cells": [
  {
   "cell_type": "markdown",
   "id": "754cc46c",
   "metadata": {},
   "source": [
    "# Reverse Integer\n",
    "\n",
    "https://leetcode.com/problems/reverse-integer/"
   ]
  },
  {
   "cell_type": "code",
   "execution_count": 1,
   "id": "fa6452f6",
   "metadata": {},
   "outputs": [],
   "source": [
    "x = 123\n",
    "output = 321"
   ]
  },
  {
   "cell_type": "code",
   "execution_count": 2,
   "id": "6fdce760",
   "metadata": {},
   "outputs": [],
   "source": [
    "def reverse_int(x):\n",
    "    candidate = str(x)[::-1] if x >= 0 else str(-x)[::-1]\n",
    "    \n",
    "    if int(candidate) <= 2**31-1:\n",
    "        return int(candidate) if x >= 0 else -int(candidate)\n",
    "    else:\n",
    "        return 0"
   ]
  },
  {
   "cell_type": "code",
   "execution_count": 4,
   "id": "91454dd9",
   "metadata": {
    "scrolled": true
   },
   "outputs": [
    {
     "data": {
      "text/plain": [
       "-86723"
      ]
     },
     "execution_count": 4,
     "metadata": {},
     "output_type": "execute_result"
    }
   ],
   "source": [
    "reverse_int(-32768)"
   ]
  },
  {
   "cell_type": "markdown",
   "id": "e818447d",
   "metadata": {},
   "source": [
    "# Palindrome Number\n",
    "\n",
    "https://leetcode.com/problems/palindrome-number/"
   ]
  },
  {
   "cell_type": "code",
   "execution_count": 6,
   "id": "65b3a806",
   "metadata": {},
   "outputs": [],
   "source": [
    "x = 12121"
   ]
  },
  {
   "cell_type": "code",
   "execution_count": 7,
   "id": "e621b856",
   "metadata": {},
   "outputs": [],
   "source": [
    "def palindrome_number(x):\n",
    "    x = str(x)\n",
    "    \n",
    "    if len(x) == 1:\n",
    "        return True\n",
    "    \n",
    "    if x[0] == '-':\n",
    "        return False\n",
    "\n",
    "    if len(x)%2 == 0 and x[:int(len(x)/2)] == x[int(len(x)/2):][::-1]:\n",
    "        return True\n",
    "\n",
    "    if len(x)%2 == 1 and x[:int(len(x)/2)] == x[int(len(x)/2)+1:][::-1]:\n",
    "        return True\n",
    "    \n",
    "    return False"
   ]
  },
  {
   "cell_type": "code",
   "execution_count": 11,
   "id": "4c4ff36d",
   "metadata": {
    "scrolled": false
   },
   "outputs": [
    {
     "data": {
      "text/plain": [
       "(True, True, True, False, False)"
      ]
     },
     "execution_count": 11,
     "metadata": {},
     "output_type": "execute_result"
    }
   ],
   "source": [
    "(\n",
    "    palindrome_number(1234321), \n",
    "    palindrome_number(123321), \n",
    "    palindrome_number(1), \n",
    "    palindrome_number(-1),\n",
    "    palindrome_number(123456321)\n",
    ")"
   ]
  }
 ],
 "metadata": {
  "kernelspec": {
   "display_name": "Python 3 (ipykernel)",
   "language": "python",
   "name": "python3"
  },
  "language_info": {
   "codemirror_mode": {
    "name": "ipython",
    "version": 3
   },
   "file_extension": ".py",
   "mimetype": "text/x-python",
   "name": "python",
   "nbconvert_exporter": "python",
   "pygments_lexer": "ipython3",
   "version": "3.9.7"
  }
 },
 "nbformat": 4,
 "nbformat_minor": 5
}
