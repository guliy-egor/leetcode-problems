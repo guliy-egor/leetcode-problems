{
 "cells": [
  {
   "cell_type": "markdown",
   "id": "90a90c9e",
   "metadata": {},
   "source": [
    "# Spiral Matrix\n",
    "\n",
    "https://leetcode.com/explore/challenge/card/september-leetcoding-challenge-2021/638/week-3-september-15th-september-21st/3977/"
   ]
  },
  {
   "cell_type": "code",
   "execution_count": 54,
   "id": "5fa4437e",
   "metadata": {},
   "outputs": [],
   "source": [
    "matrix = [[1,2,3,4],[5,6,7,8],[9,10,11,12]]"
   ]
  },
  {
   "cell_type": "code",
   "execution_count": 56,
   "id": "df4f1878",
   "metadata": {},
   "outputs": [],
   "source": [
    "def spiral_matrix(matrix):\n",
    "    result = []\n",
    "\n",
    "    while len(matrix) != 1:\n",
    "        result += matrix[0]\n",
    "        matrix = matrix[1:]\n",
    "        matrix = [[line[-i] for line in matrix] for i in range(1, len(matrix[0])+1)]\n",
    "\n",
    "    return result += matrix[0]"
   ]
  },
  {
   "cell_type": "code",
   "execution_count": 57,
   "id": "eb2e5b54",
   "metadata": {
    "scrolled": true
   },
   "outputs": [
    {
     "data": {
      "text/plain": [
       "[1, 2, 3, 4, 8, 12, 11, 10, 9, 5, 6, 7]"
      ]
     },
     "execution_count": 57,
     "metadata": {},
     "output_type": "execute_result"
    }
   ],
   "source": [
    "spiral_matrix(matrix)"
   ]
  },
  {
   "cell_type": "markdown",
   "id": "f173648c",
   "metadata": {},
   "source": [
    "# Search 2-d Matrix\n",
    "\n",
    "https://leetcode.com/problems/search-a-2d-matrix/"
   ]
  },
  {
   "cell_type": "code",
   "execution_count": 144,
   "id": "ed7597d9",
   "metadata": {},
   "outputs": [],
   "source": [
    "def searchMatrix(matrix, target):\n",
    "    l = len(matrix)\n",
    "    idx = int(l/2)\n",
    "    \n",
    "    while l != 1:\n",
    "        if matrix[idx][0] == target:\n",
    "            return True\n",
    "        elif matrix[idx][0] > target:\n",
    "            matrix = matrix[:idx]\n",
    "            l = idx\n",
    "            idx = int(l/2)\n",
    "        elif matrix[idx][0] < target:\n",
    "            matrix = matrix[idx:]\n",
    "            l -= idx\n",
    "            idx = int(l/2)\n",
    "\n",
    "    row = matrix[0]\n",
    "    l_2 = len(row)\n",
    "    idx = int(l_2/2)\n",
    "\n",
    "    while l_2 != 1:\n",
    "        if row[idx] == target:\n",
    "            return True\n",
    "        elif row[idx] > target:\n",
    "            row = row[:idx]\n",
    "            l_2 = idx\n",
    "            idx = int(l_2/2)\n",
    "        elif row[idx] < target:\n",
    "            row = row[idx:]\n",
    "            l_2 -= idx\n",
    "            idx = int(l_2/2)\n",
    "\n",
    "    if row[0] == target:\n",
    "        return True\n",
    "    \n",
    "    return False"
   ]
  },
  {
   "cell_type": "code",
   "execution_count": 161,
   "id": "0e04b7d5",
   "metadata": {},
   "outputs": [],
   "source": [
    "matrix = [[1,3,5,7],[10,11],[23,30,34,60],[85,90,94,99],[110,120,150,155]]\n",
    "target = 19"
   ]
  },
  {
   "cell_type": "code",
   "execution_count": 162,
   "id": "b23e3f7d",
   "metadata": {},
   "outputs": [
    {
     "data": {
      "text/plain": [
       "False"
      ]
     },
     "execution_count": 162,
     "metadata": {},
     "output_type": "execute_result"
    }
   ],
   "source": [
    "searchMatrix(matrix, target)"
   ]
  },
  {
   "cell_type": "markdown",
   "id": "c2238098",
   "metadata": {},
   "source": [
    "# Intersection of Two Arrays II\n",
    "\n",
    "https://leetcode.com/explore/challenge/card/september-leetcoding-challenge-2021/638/week-3-september-15th-september-21st/3978/"
   ]
  },
  {
   "cell_type": "code",
   "execution_count": 28,
   "id": "6b61fbaf",
   "metadata": {},
   "outputs": [],
   "source": [
    "def arr_intersect(nums1, nums2):\n",
    "    res = []\n",
    "\n",
    "    for num in nums1:\n",
    "        if num in nums2:\n",
    "            res.append(num)\n",
    "            del nums2[nums2.index(num)]\n",
    "    \n",
    "    return res"
   ]
  },
  {
   "cell_type": "code",
   "execution_count": 62,
   "id": "57879f95",
   "metadata": {},
   "outputs": [],
   "source": [
    "def arr_intersect_2(nums1, nums2):\n",
    "    res = []\n",
    "\n",
    "    for num in nums1:\n",
    "        i = 0\n",
    "        while i < len(nums2):\n",
    "            if num == nums2[i]:\n",
    "                res.append(num)\n",
    "                del nums2[i]\n",
    "            else:\n",
    "                i += 1\n",
    "    \n",
    "    return res"
   ]
  },
  {
   "cell_type": "code",
   "execution_count": 88,
   "id": "03936bf7",
   "metadata": {},
   "outputs": [],
   "source": [
    "def arr_intersect_3(nums1, nums2):\n",
    "    i = 0\n",
    "    while i < len(nums1):\n",
    "        j = 0\n",
    "        while j < len(nums2):\n",
    "            if nums1[i] == nums2[j]:\n",
    "                del nums2[j]\n",
    "                break\n",
    "            else:\n",
    "                j += 1\n",
    "        if j == len(nums2):\n",
    "            del nums1[i]\n",
    "        i += 1\n",
    "    \n",
    "    return nums1"
   ]
  },
  {
   "cell_type": "code",
   "execution_count": 89,
   "id": "724be322",
   "metadata": {},
   "outputs": [],
   "source": [
    "nums1 = [4,9,5,9,20,25,30,50,90,50,180,180,180,180,190,250]\n",
    "nums2 = [9,4,9,8,4,30,50,50,110,180,180,180,180,190,290]"
   ]
  },
  {
   "cell_type": "code",
   "execution_count": 90,
   "id": "8ebecb32",
   "metadata": {
    "scrolled": true
   },
   "outputs": [
    {
     "name": "stdout",
     "output_type": "stream",
     "text": [
      "CPU times: user 21 µs, sys: 0 ns, total: 21 µs\n",
      "Wall time: 23.1 µs\n"
     ]
    },
    {
     "data": {
      "text/plain": [
       "[4, 9, 9, 25, 30, 50, 50, 180, 180, 180, 180, 190]"
      ]
     },
     "execution_count": 90,
     "metadata": {},
     "output_type": "execute_result"
    }
   ],
   "source": [
    "%%time\n",
    "arr_intersect_3(nums1, nums2)"
   ]
  },
  {
   "cell_type": "code",
   "execution_count": 72,
   "id": "aa904a52",
   "metadata": {
    "scrolled": true
   },
   "outputs": [
    {
     "name": "stdout",
     "output_type": "stream",
     "text": [
      "CPU times: user 10 µs, sys: 0 ns, total: 10 µs\n",
      "Wall time: 12.9 µs\n"
     ]
    },
    {
     "data": {
      "text/plain": [
       "[4, 9, 9, 30, 50, 50, 180, 180, 180, 180, 190]"
      ]
     },
     "execution_count": 72,
     "metadata": {},
     "output_type": "execute_result"
    }
   ],
   "source": [
    "%%time\n",
    "arr_intersect(nums1, nums2)"
   ]
  },
  {
   "cell_type": "code",
   "execution_count": null,
   "id": "cbc3ac51",
   "metadata": {},
   "outputs": [],
   "source": []
  }
 ],
 "metadata": {
  "kernelspec": {
   "display_name": "Python 3 (ipykernel)",
   "language": "python",
   "name": "python3"
  },
  "language_info": {
   "codemirror_mode": {
    "name": "ipython",
    "version": 3
   },
   "file_extension": ".py",
   "mimetype": "text/x-python",
   "name": "python",
   "nbconvert_exporter": "python",
   "pygments_lexer": "ipython3",
   "version": "3.9.7"
  }
 },
 "nbformat": 4,
 "nbformat_minor": 5
}
